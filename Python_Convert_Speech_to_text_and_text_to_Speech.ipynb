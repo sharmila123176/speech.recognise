{
  "cells": [
    {
      "cell_type": "code",
      "execution_count": 1,
      "metadata": {
        "colab": {
          "base_uri": "https://localhost:8080/"
        },
        "id": "Dgz1QcOK2z4r",
        "outputId": "edac02af-b69e-4829-d482-b921cfaa1515"
      },
      "outputs": [
        {
          "name": "stderr",
          "output_type": "stream",
          "text": [
            "Sudo is disabled on this machine. To enable it, go to the \u001b]8;;ms-settings:developers\u001b\\Developer Settings page\u001b]8;;\u001b\\ in the Settings app\n"
          ]
        },
        {
          "name": "stdout",
          "output_type": "stream",
          "text": [
            "Requirement already satisfied: pyaudio in c:\\users\\sharmila\\anaconda3\\lib\\site-packages (0.2.14)\n",
            "Requirement already satisfied: SpeechRecognition in c:\\users\\sharmila\\anaconda3\\lib\\site-packages (3.14.2)\n",
            "Requirement already satisfied: typing-extensions in c:\\users\\sharmila\\anaconda3\\lib\\site-packages (from SpeechRecognition) (4.13.2)\n",
            "Requirement already satisfied: pyttsx3 in c:\\users\\sharmila\\anaconda3\\lib\\site-packages (2.98)\n",
            "Requirement already satisfied: comtypes in c:\\users\\sharmila\\anaconda3\\lib\\site-packages (from pyttsx3) (1.1.10)\n",
            "Requirement already satisfied: pypiwin32 in c:\\users\\sharmila\\anaconda3\\lib\\site-packages (from pyttsx3) (223)\n",
            "Requirement already satisfied: pywin32 in c:\\users\\sharmila\\anaconda3\\lib\\site-packages (from pyttsx3) (302)\n"
          ]
        }
      ],
      "source": [
        "!sudo apt-get install portaudio19-dev # Linux-case\n",
        "!python -m pip install pyaudio\n",
        "!pip install SpeechRecognition\n",
        "!pip install pyttsx3"
      ]
    },
    {
      "cell_type": "code",
      "execution_count": null,
      "metadata": {
        "colab": {
          "base_uri": "https://localhost:8080/",
          "height": 370
        },
        "id": "QbcA1jUl2a5G",
        "outputId": "bd6c4eb2-0d9c-4607-cd7d-ef6bf6a78c2f"
      },
      "outputs": [
        {
          "name": "stdout",
          "output_type": "stream",
          "text": [
            "&quot;unknown error occurred&quot;\n",
            "&quot;unknown error occurred&quot;\n",
            "&quot;unknown error occurred&quot;\n",
            "&quot;unknown error occurred&quot;\n"
          ]
        }
      ],
      "source": [
        "# Python program to translate\n",
        "# speech to text and text to speech\n",
        "\n",
        "\n",
        "import speech_recognition as sr\n",
        "import pyttsx3\n",
        "\n",
        "# Initialize the recognizer\n",
        "r = sr.Recognizer()\n",
        "\n",
        "# Function to convert text to\n",
        "# speech\n",
        "def SpeakText(command):\n",
        "\n",
        "    # Initialize the engine\n",
        "    engine = pyttsx3.init()\n",
        "    engine.say(command)\n",
        "    engine.runAndWait()\n",
        "\n",
        "\n",
        "# Loop infinitely for user to\n",
        "# speak\n",
        "\n",
        "while(1):\n",
        "\n",
        "    # Exception handling to handle\n",
        "    # exceptions at the runtime\n",
        "    try:\n",
        "\n",
        "        # use the microphone as source for input.\n",
        "        with sr.Microphone() as source2:\n",
        "\n",
        "            # wait for a second to let the recognizer\n",
        "            # adjust the energy threshold based on\n",
        "            # the surrounding noise level\n",
        "            r.adjust_for_ambient_noise(source2, duration=0.2)\n",
        "\n",
        "            #listens for the user's input\n",
        "            audio2 = r.listen(source2)\n",
        "\n",
        "            # Using google to recognize audio\n",
        "            MyText = r.recognize_google(audio2)\n",
        "            MyText = MyText.lower()\n",
        "\n",
        "            print(\"&quot;Did you say &quot;\",MyText)\n",
        "            SpeakText(MyText)\n",
        "\n",
        "    except sr.RequestError as e:\n",
        "        print(\"&quot;Could not request results; {0}&quot;\".format(e))\n",
        "\n",
        "    except sr.UnknownValueError:\n",
        "        print(\"&quot;unknown error occurred&quot;\")"
      ]
    },
    {
      "cell_type": "code",
      "execution_count": null,
      "metadata": {},
      "outputs": [],
      "source": []
    }
  ],
  "metadata": {
    "colab": {
      "provenance": []
    },
    "kernelspec": {
      "display_name": "base",
      "language": "python",
      "name": "python3"
    },
    "language_info": {
      "codemirror_mode": {
        "name": "ipython",
        "version": 3
      },
      "file_extension": ".py",
      "mimetype": "text/x-python",
      "name": "python",
      "nbconvert_exporter": "python",
      "pygments_lexer": "ipython3",
      "version": "3.9.13"
    }
  },
  "nbformat": 4,
  "nbformat_minor": 0
}
